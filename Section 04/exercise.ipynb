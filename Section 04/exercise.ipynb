{
 "metadata": {
  "language_info": {
   "codemirror_mode": {
    "name": "ipython",
    "version": 3
   },
   "file_extension": ".py",
   "mimetype": "text/x-python",
   "name": "python",
   "nbconvert_exporter": "python",
   "pygments_lexer": "ipython3",
   "version": "3.7.4-final"
  },
  "orig_nbformat": 2,
  "kernelspec": {
   "name": "python37464bitbasecondaca9d845140e8440f8dff205efb07a6b1",
   "display_name": "Python 3.7.4 64-bit ('base': conda)"
  }
 },
 "nbformat": 4,
 "nbformat_minor": 2,
 "cells": [
  {
   "cell_type": "markdown",
   "metadata": {
    "tags": []
   },
   "source": [
    "![title](./exercise.png)"
   ]
  },
  {
   "cell_type": "code",
   "execution_count": null,
   "metadata": {},
   "outputs": [],
   "source": [
    "class Point:\n",
    "    def __init__(self, x=0, y=0):\n",
    "        self.x = x\n",
    "        self.y = y\n",
    "\n",
    "class Line:\n",
    "    def __init__(self, start=Point(), end=Point()):\n",
    "        self.start = start\n",
    "        self.end = end\n",
    "\n",
    "    def deep_copy(self):\n",
    "        # TODO"
   ]
  },
  {
   "cell_type": "code",
   "execution_count": 6,
   "metadata": {},
   "outputs": [],
   "source": [
    "import copy\n",
    "\n",
    "class Point:\n",
    "    def __str__(self):\n",
    "        return \"x={};y={}\".format(self.x, self.y)\n",
    "\n",
    "    def __init__(self, x=0, y=0):\n",
    "        self.x = x\n",
    "        self.y = y\n",
    "\n",
    "class Line:\n",
    "    def __str__(self):\n",
    "        return \"start is {} and end is {}\".format(self.start, self.end)\n",
    "\n",
    "    def __init__(self, start=Point(), end=Point()):\n",
    "        self.start = start\n",
    "        self.end = end\n",
    "\n",
    "    def deep_copy(self):\n",
    "        result = copy.deepcopy(self)\n",
    "        return result"
   ]
  },
  {
   "cell_type": "code",
   "execution_count": 15,
   "metadata": {
    "tags": []
   },
   "outputs": [
    {
     "output_type": "stream",
     "name": "stdout",
     "text": "start is x=0;y=0 and end is x=2;y=2\nstart is x=0;y=0 and end is x=2;y=2\nstart is x=5;y=5 and end is x=2;y=2\nstart is x=0;y=0 and end is x=2;y=2\n"
    }
   ],
   "source": [
    "l1 = Line(Point(0,0),Point(2,2))\n",
    "print(l1)\n",
    "l2 = l1.deep_copy()\n",
    "print(l2)\n",
    "l2.start = Point(5,5)\n",
    "print(l2)\n",
    "print(l1)"
   ]
  }
 ]
}