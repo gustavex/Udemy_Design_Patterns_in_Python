{
 "metadata": {
  "language_info": {
   "codemirror_mode": {
    "name": "ipython",
    "version": 3
   },
   "file_extension": ".py",
   "mimetype": "text/x-python",
   "name": "python",
   "nbconvert_exporter": "python",
   "pygments_lexer": "ipython3",
   "version": "3.7.3-final"
  },
  "orig_nbformat": 2,
  "kernelspec": {
   "name": "python3",
   "display_name": "Python 3"
  }
 },
 "nbformat": 4,
 "nbformat_minor": 2,
 "cells": [
  {
   "source": [
    "![title](./exercise.png)"
   ],
   "cell_type": "markdown",
   "metadata": {}
  },
  {
   "cell_type": "code",
   "execution_count": null,
   "metadata": {},
   "outputs": [],
   "source": [
    "class Participant:\n",
    "    def __init__(self, mediator):\n",
    "        self.value = 0\n",
    "        self.mediator = mediator\n",
    "\n",
    "    def say(self, value):\n",
    "        # todo"
   ]
  },
  {
   "cell_type": "code",
   "execution_count": 30,
   "metadata": {},
   "outputs": [],
   "source": [
    "class Participant:\n",
    "    def __init__(self, mediator, name):\n",
    "        self.value = 0\n",
    "        self.mediator = mediator\n",
    "        self.name = name\n",
    "        mediator.participants.append(self)\n",
    "\n",
    "    def receive(self, message):\n",
    "        self.value = self.value + message\n",
    "        print(self)\n",
    "\n",
    "    def say(self, message):\n",
    "        self.mediator.broadcast(self.name, message)\n",
    "\n",
    "    def __str__(self):\n",
    "        return \"{} value is {}\".format(self.name, self.value)\n",
    "\n",
    "class Mediator:\n",
    "    def __init__(self):\n",
    "        self.participants = []\n",
    "\n",
    "    def broadcast(self, source, message):\n",
    "        for p in self.participants:\n",
    "            if p.name != source:\n",
    "                p.receive(message)  \n"
   ]
  },
  {
   "cell_type": "code",
   "execution_count": 21,
   "metadata": {},
   "outputs": [
    {
     "output_type": "stream",
     "name": "stdout",
     "text": [
      "pcpt1 value is 0\npcpt2 value is 0\n"
     ]
    }
   ],
   "source": [
    "mediator = Mediator()\n",
    "pcpt1 = Participant(mediator, 'pcpt1')\n",
    "pcpt2 = Participant(mediator, 'pcpt2')\n",
    "print(pcpt1)\n",
    "print(pcpt2)"
   ]
  },
  {
   "cell_type": "code",
   "execution_count": 22,
   "metadata": {},
   "outputs": [
    {
     "output_type": "stream",
     "name": "stdout",
     "text": [
      "pcpt2 value is 5\n"
     ]
    }
   ],
   "source": [
    "pcpt1.say(5)"
   ]
  },
  {
   "cell_type": "code",
   "execution_count": 23,
   "metadata": {},
   "outputs": [
    {
     "output_type": "stream",
     "name": "stdout",
     "text": [
      "pcpt1 value is 0\npcpt2 value is 5\n"
     ]
    }
   ],
   "source": [
    "print(pcpt1)\n",
    "print(pcpt2)"
   ]
  },
  {
   "cell_type": "code",
   "execution_count": 24,
   "metadata": {},
   "outputs": [
    {
     "output_type": "stream",
     "name": "stdout",
     "text": [
      "pcpt1 value is 3\n"
     ]
    }
   ],
   "source": [
    "pcpt2.say(3)"
   ]
  },
  {
   "cell_type": "code",
   "execution_count": 25,
   "metadata": {},
   "outputs": [
    {
     "output_type": "stream",
     "name": "stdout",
     "text": [
      "pcpt1 value is 3\npcpt2 value is 5\n"
     ]
    }
   ],
   "source": [
    "print(pcpt1)\n",
    "print(pcpt2)"
   ]
  },
  {
   "cell_type": "code",
   "execution_count": 27,
   "metadata": {},
   "outputs": [
    {
     "output_type": "stream",
     "name": "stdout",
     "text": [
      "pcpt1 value is 0\npcpt2 value is 0\npcpt3 value is 0\n"
     ]
    }
   ],
   "source": [
    "mediator = Mediator()\n",
    "pcpt1 = Participant(mediator, 'pcpt1')\n",
    "pcpt2 = Participant(mediator, 'pcpt2')\n",
    "pcpt3 = Participant(mediator, 'pcpt3')\n",
    "print(pcpt1)\n",
    "print(pcpt2)\n",
    "print(pcpt3)"
   ]
  },
  {
   "cell_type": "code",
   "execution_count": 28,
   "metadata": {},
   "outputs": [
    {
     "output_type": "stream",
     "name": "stdout",
     "text": [
      "pcpt2 value is 6\npcpt3 value is 6\n"
     ]
    }
   ],
   "source": [
    "pcpt1.say"
   ]
  },
  {
   "cell_type": "code",
   "execution_count": 29,
   "metadata": {},
   "outputs": [
    {
     "output_type": "stream",
     "name": "stdout",
     "text": [
      "pcpt1 value is 0\npcpt2 value is 6\npcpt3 value is 6\n"
     ]
    }
   ],
   "source": [
    "print(pcpt1)\n",
    "print(pcpt2)\n",
    "print(pcpt3)"
   ]
  }
 ]
}