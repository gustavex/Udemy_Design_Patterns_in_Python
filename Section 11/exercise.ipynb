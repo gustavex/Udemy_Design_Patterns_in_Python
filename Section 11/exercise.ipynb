{
 "metadata": {
  "language_info": {
   "codemirror_mode": {
    "name": "ipython",
    "version": 3
   },
   "file_extension": ".py",
   "mimetype": "text/x-python",
   "name": "python",
   "nbconvert_exporter": "python",
   "pygments_lexer": "ipython3",
   "version": "3.7.4-final"
  },
  "orig_nbformat": 2,
  "kernelspec": {
   "name": "python37464bitbasecondaca9d845140e8440f8dff205efb07a6b1",
   "display_name": "Python 3.7.4 64-bit ('base': conda)"
  }
 },
 "nbformat": 4,
 "nbformat_minor": 2,
 "cells": [
  {
   "cell_type": "markdown",
   "metadata": {},
   "source": [
    "![title](./exercise.png)"
   ]
  },
  {
   "cell_type": "code",
   "execution_count": 6,
   "metadata": {},
   "outputs": [],
   "source": [
    "class Sentence:\n",
    "  def __init__(self, plain_text):\n",
    "    self.words = plain_text.split(' ')\n",
    "    self.tokens = {}\n",
    "\n",
    "  def __getitem__(self, item):\n",
    "    wt = self.WordToken()\n",
    "    self.tokens[item] = wt \n",
    "    return self.tokens[item]\n",
    "\n",
    "  class WordToken:\n",
    "    def __init__(self, capitalize=False):\n",
    "      self.capitalize = capitalize\n",
    "\n",
    "  def __str__(self):\n",
    "    result = []\n",
    "    for i in range(len(self.words)):\n",
    "      w = self.words[i]\n",
    "      if i in self.tokens and self.tokens[i].capitalize:\n",
    "        w = w.upper()\n",
    "      result.append(w)\n",
    "    return ' '.join(result)  "
   ]
  },
  {
   "cell_type": "code",
   "execution_count": 7,
   "metadata": {
    "tags": []
   },
   "outputs": [
    {
     "output_type": "stream",
     "name": "stdout",
     "text": "hello WORLD\n"
    }
   ],
   "source": [
    "sentence = Sentence('hello world')\n",
    "sentence[1].capitalize = True\n",
    "print(sentence)"
   ]
  }
 ]
}