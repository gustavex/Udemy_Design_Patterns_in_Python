{
 "metadata": {
  "language_info": {
   "codemirror_mode": {
    "name": "ipython",
    "version": 3
   },
   "file_extension": ".py",
   "mimetype": "text/x-python",
   "name": "python",
   "nbconvert_exporter": "python",
   "pygments_lexer": "ipython3",
   "version": "3.7.3-final"
  },
  "orig_nbformat": 2,
  "kernelspec": {
   "name": "python3",
   "display_name": "Python 3"
  }
 },
 "nbformat": 4,
 "nbformat_minor": 2,
 "cells": [
  {
   "source": [
    "![title](./exercise.png)"
   ],
   "cell_type": "markdown",
   "metadata": {}
  },
  {
   "cell_type": "code",
   "execution_count": null,
   "metadata": {},
   "outputs": [],
   "source": [
    "class ExpressionProcessor:\n",
    "    def __init__(self):\n",
    "        self.variables = {}\n",
    "\n",
    "    def calculate(self, expression):\n",
    "        # todo"
   ]
  },
  {
   "cell_type": "code",
   "execution_count": 1,
   "metadata": {},
   "outputs": [],
   "source": [
    "import re\n",
    "from enum import Enum\n",
    "\n",
    "def megasplit(pattern, string):\n",
    "    splits = list((m.start(), m.end()) for m in re.finditer(pattern, string))\n",
    "    starts = [0] + [i[1] for i in splits]\n",
    "    ends = [i[0] for i in splits] + [len(string)]\n",
    "    return [string[start:end] for start, end in zip(starts, ends)]\n",
    "\n",
    "class ExpressionProcessor:\n",
    "    class NextOp(Enum):\n",
    "        PLUS = 1\n",
    "        MINUS = 2\n",
    "\n",
    "    def __init__(self):\n",
    "        self.variables = {}\n",
    "\n",
    "    def calculate(self, expression):\n",
    "        current = 0\n",
    "        next_op = None\n",
    "\n",
    "        # doesn't work in python 3.5\n",
    "        # parts = re.split('(?<=[+-])', expression)\n",
    "        parts = megasplit('(?<=[+-])', expression)\n",
    "\n",
    "        for part in parts:\n",
    "            noop = re.split('[\\+\\-]', part)\n",
    "            first = noop[0]\n",
    "            value = 0\n",
    "\n",
    "            try:\n",
    "                value = int(first)\n",
    "            except ValueError:\n",
    "                if len(first) == 1 and first[0] in self.variables:\n",
    "                    value = self.variables[first[0]]\n",
    "                else:\n",
    "                    return 0\n",
    "\n",
    "            if not next_op:\n",
    "                current = value\n",
    "            elif next_op == self.NextOp.PLUS:\n",
    "                current += value\n",
    "            elif next_op == self.NextOp.MINUS:\n",
    "                current -= value\n",
    "\n",
    "            if part.endswith('+'):\n",
    "                next_op = self.NextOp.PLUS\n",
    "            elif part.endswith('-'):\n",
    "                next_op = self.NextOp.MINUS\n",
    "\n",
    "        return current"
   ]
  },
  {
   "cell_type": "code",
   "execution_count": 2,
   "metadata": {},
   "outputs": [
    {
     "output_type": "execute_result",
     "data": {
      "text/plain": [
       "1"
      ]
     },
     "metadata": {},
     "execution_count": 2
    }
   ],
   "source": [
    "ep = ExpressionProcessor()\n",
    "ep.variables['x'] = 5\n",
    "ep.calculate('1')"
   ]
  },
  {
   "cell_type": "code",
   "execution_count": 3,
   "metadata": {},
   "outputs": [
    {
     "output_type": "execute_result",
     "data": {
      "text/plain": [
       "3"
      ]
     },
     "metadata": {},
     "execution_count": 3
    }
   ],
   "source": [
    "ep.calculate('1+2')"
   ]
  },
  {
   "cell_type": "code",
   "execution_count": 5,
   "metadata": {},
   "outputs": [
    {
     "output_type": "execute_result",
     "data": {
      "text/plain": [
       "6"
      ]
     },
     "metadata": {},
     "execution_count": 5
    }
   ],
   "source": [
    "ep.calculate('1+x')"
   ]
  }
 ]
}