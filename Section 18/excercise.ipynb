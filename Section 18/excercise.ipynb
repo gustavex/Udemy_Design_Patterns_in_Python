{
 "metadata": {
  "language_info": {
   "codemirror_mode": {
    "name": "ipython",
    "version": 3
   },
   "file_extension": ".py",
   "mimetype": "text/x-python",
   "name": "python",
   "nbconvert_exporter": "python",
   "pygments_lexer": "ipython3",
   "version": "3.7.3-final"
  },
  "orig_nbformat": 2,
  "kernelspec": {
   "name": "python3",
   "display_name": "Python 3"
  }
 },
 "nbformat": 4,
 "nbformat_minor": 2,
 "cells": [
  {
   "source": [
    "![title](./exercise.png)"
   ],
   "cell_type": "markdown",
   "metadata": {}
  },
  {
   "cell_type": "code",
   "execution_count": null,
   "metadata": {},
   "outputs": [],
   "source": [
    "class Token:\n",
    "    def __init__(self, value=0):\n",
    "        self.value = value\n",
    "\n",
    "\n",
    "class Memento(list):\n",
    "    pass\n",
    "\n",
    "\n",
    "class TokenMachine:\n",
    "    def __init__(self):\n",
    "        self.tokens = []\n",
    "\n",
    "    def add_token_value(self, value):\n",
    "        return self.add_token(Token(value))\n",
    "\n",
    "    def add_token(self, token):\n",
    "        # todo\n",
    "\n",
    "    def revert(self, memento):\n",
    "        # todo"
   ]
  },
  {
   "cell_type": "code",
   "execution_count": 3,
   "metadata": {},
   "outputs": [],
   "source": [
    "from copy import deepcopy\n",
    "\n",
    "class Token:\n",
    "    def __init__(self, value=0):\n",
    "        self.value = value\n",
    "\n",
    "class Memento(list):\n",
    "    pass\n",
    "\n",
    "class TokenMachine:\n",
    "    def __init__(self):\n",
    "        self.tokens = []\n",
    "\n",
    "    def add_token_value(self, value):\n",
    "        return self.add_token(Token(value))\n",
    "\n",
    "    def add_token(self, token):\n",
    "        self.tokens.append(token)\n",
    "        return Memento(deepcopy(self.tokens))\n",
    "\n",
    "    def revert(self, memento):\n",
    "        self.tokens = [Token(x.value) for x in memento]"
   ]
  },
  {
   "cell_type": "code",
   "execution_count": 4,
   "metadata": {},
   "outputs": [],
   "source": [
    "tm = TokenMachine()\n",
    "m = tm.add_token_value(123)\n",
    "tm.add_token_value(456)\n",
    "tm.revert(m)"
   ]
  }
 ]
}