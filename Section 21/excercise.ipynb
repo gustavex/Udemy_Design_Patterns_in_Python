{
 "metadata": {
  "language_info": {
   "codemirror_mode": {
    "name": "ipython",
    "version": 3
   },
   "file_extension": ".py",
   "mimetype": "text/x-python",
   "name": "python",
   "nbconvert_exporter": "python",
   "pygments_lexer": "ipython3",
   "version": "3.7.3-final"
  },
  "orig_nbformat": 2,
  "kernelspec": {
   "name": "python3",
   "display_name": "Python 3"
  }
 },
 "nbformat": 4,
 "nbformat_minor": 2,
 "cells": [
  {
   "source": [
    "![title](./exercise.png)"
   ],
   "cell_type": "markdown",
   "metadata": {}
  },
  {
   "cell_type": "code",
   "execution_count": null,
   "metadata": {},
   "outputs": [],
   "source": [
    "from abc import ABC\n",
    "\n",
    "\n",
    "class DiscriminantStrategy(ABC):\n",
    "    def calculate_discriminant(self, a, b, c):\n",
    "        pass\n",
    "\n",
    "\n",
    "class OrdinaryDiscriminantStrategy(DiscriminantStrategy):\n",
    "    def calculate_discriminant(self, a, b, c):\n",
    "        # todo\n",
    "\n",
    "\n",
    "class RealDiscriminantStrategy(DiscriminantStrategy):\n",
    "    def calculate_discriminant(self, a, b, c):\n",
    "        # todo\n",
    "\n",
    "\n",
    "class QuadraticEquationSolver:\n",
    "    def __init__(self, strategy):\n",
    "        self.strategy = strategy\n",
    "\n",
    "    def solve(self, a, b, c):\n",
    "        \"\"\" Returns a pair of complex (!) values \"\"\"\n",
    "        # todo"
   ]
  },
  {
   "cell_type": "code",
   "execution_count": 13,
   "metadata": {},
   "outputs": [],
   "source": [
    "from abc import ABC\n",
    "\n",
    "class DiscriminantStrategy(ABC):\n",
    "    def calculate_discriminant(self, a, b, c):\n",
    "        pass\n",
    "\n",
    "\n",
    "class OrdinaryDiscriminantStrategy(DiscriminantStrategy):\n",
    "    def calculate_discriminant(self, a, b, c):\n",
    "        discriminant = b*b - 4*a*c\n",
    "        return discriminant   \n",
    "\n",
    "class RealDiscriminantStrategy(DiscriminantStrategy):\n",
    "    def calculate_discriminant(self, a, b, c):\n",
    "        discriminant = b*b - 4*a*c\n",
    "        if discriminant < 0:\n",
    "            discriminant = float('nan')\n",
    "        return discriminant\n",
    "\n",
    "class QuadraticEquationSolver:\n",
    "    def __init__(self, strategy):\n",
    "        self.strategy = strategy\n",
    "\n",
    "    def solve(self, a, b, c):\n",
    "        \"\"\" Returns a pair of complex (!) values \"\"\"\n",
    "        discriminant = self.strategy.calculate_discriminant(a,b,c)\n",
    "        return (-b+discriminant**(0.5))/(2*a), (-b-discriminant**(0.5))/(2*a)"
   ]
  },
  {
   "cell_type": "code",
   "execution_count": 16,
   "metadata": {},
   "outputs": [
    {
     "output_type": "execute_result",
     "data": {
      "text/plain": [
       "(1.4494897427831779, -3.449489742783178)"
      ]
     },
     "metadata": {},
     "execution_count": 16
    }
   ],
   "source": [
    "qs = QuadraticEquationSolver(RealDiscriminantStrategy())\n",
    "qs.solve(1,2,-5)"
   ]
  },
  {
   "cell_type": "code",
   "execution_count": 17,
   "metadata": {},
   "outputs": [
    {
     "output_type": "execute_result",
     "data": {
      "text/plain": [
       "((-0.9999999999999999+2j), (-1.0000000000000002-2j))"
      ]
     },
     "metadata": {},
     "execution_count": 17
    }
   ],
   "source": [
    "qs = QuadraticEquationSolver(OrdinaryDiscriminantStrategy())\n",
    "qs.solve(1,2,5)"
   ]
  },
  {
   "cell_type": "code",
   "execution_count": 18,
   "metadata": {},
   "outputs": [
    {
     "output_type": "execute_result",
     "data": {
      "text/plain": [
       "(nan, nan)"
      ]
     },
     "metadata": {},
     "execution_count": 18
    }
   ],
   "source": [
    "qs = QuadraticEquationSolver(RealDiscriminantStrategy())\n",
    "qs.solve(1,2,5)"
   ]
  }
 ]
}