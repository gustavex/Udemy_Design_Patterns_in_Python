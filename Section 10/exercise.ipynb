{
 "metadata": {
  "language_info": {
   "codemirror_mode": {
    "name": "ipython",
    "version": 3
   },
   "file_extension": ".py",
   "mimetype": "text/x-python",
   "name": "python",
   "nbconvert_exporter": "python",
   "pygments_lexer": "ipython3",
   "version": "3.7.4-final"
  },
  "orig_nbformat": 2,
  "kernelspec": {
   "name": "python37464bitbasecondaca9d845140e8440f8dff205efb07a6b1",
   "display_name": "Python 3.7.4 64-bit ('base': conda)"
  }
 },
 "nbformat": 4,
 "nbformat_minor": 2,
 "cells": [
  {
   "cell_type": "markdown",
   "metadata": {},
   "source": [
    "![title](./exercise.png)"
   ]
  },
  {
   "cell_type": "code",
   "execution_count": null,
   "metadata": {},
   "outputs": [],
   "source": [
    "from random import randint\n",
    "\n",
    "class Generator:\n",
    "  def generate(self, count):\n",
    "    return [randint(1,9) for x in range(count)]\n",
    "\n",
    "class Splitter:\n",
    "  def split(self, array):\n",
    "    result = []\n",
    "\n",
    "    row_count = len(array)\n",
    "    col_count = len(array[0])\n",
    "\n",
    "    for r in range(row_count):\n",
    "      the_row = []\n",
    "      for c in range(col_count):\n",
    "        the_row.append(array[r][c])\n",
    "      result.append(the_row)\n",
    "\n",
    "    for c in range(col_count):\n",
    "      the_col = []\n",
    "      for r in range(row_count):\n",
    "        the_col.append(array[r][c])\n",
    "      result.append(the_col)\n",
    "\n",
    "    diag1 = []\n",
    "    diag2 = []\n",
    "\n",
    "    for c in range(col_count):\n",
    "      for r in range(row_count):\n",
    "        if c == r:\n",
    "          diag1.append(array[r][c])\n",
    "        r2 = row_count - r - 1\n",
    "        if c == r2:\n",
    "          diag2.append(array[r][c])\n",
    "\n",
    "    result.append(diag1)\n",
    "    result.append(diag2)\n",
    "\n",
    "    return result\n",
    "\n",
    "class Verifier:\n",
    "  def verify(self, arrays):\n",
    "    first = sum(arrays[0])\n",
    "\n",
    "    for i in range(1, len(arrays)):\n",
    "      if sum(arrays[i]) != first:\n",
    "        return False\n",
    "\n",
    "    return True\n",
    "\n",
    "class MagicSquareGenerator:\n",
    "  def generate(self, size):\n",
    "    # todo - return a magic square of the given size"
   ]
  },
  {
   "cell_type": "code",
   "execution_count": null,
   "metadata": {},
   "outputs": [],
   "source": [
    "from random import randint\n",
    "\n",
    "class Generator:\n",
    "  def generate(self, count):\n",
    "    return [randint(1,9) for x in range(count)]\n",
    "\n",
    "class Splitter:\n",
    "  def split(self, array):\n",
    "    result = []\n",
    "\n",
    "    row_count = len(array)\n",
    "    col_count = len(array[0])\n",
    "\n",
    "    for r in range(row_count):\n",
    "      the_row = []\n",
    "      for c in range(col_count):\n",
    "        the_row.append(array[r][c])\n",
    "      result.append(the_row)\n",
    "\n",
    "    for c in range(col_count):\n",
    "      the_col = []\n",
    "      for r in range(row_count):\n",
    "        the_col.append(array[r][c])\n",
    "      result.append(the_col)\n",
    "\n",
    "    diag1 = []\n",
    "    diag2 = []\n",
    "\n",
    "    for c in range(col_count):\n",
    "      for r in range(row_count):\n",
    "        if c == r:\n",
    "          diag1.append(array[r][c])\n",
    "        r2 = row_count - r - 1\n",
    "        if c == r2:\n",
    "          diag2.append(array[r][c])\n",
    "\n",
    "    result.append(diag1)\n",
    "    result.append(diag2)\n",
    "\n",
    "    return result\n",
    "\n",
    "class Verifier:\n",
    "  def verify(self, arrays):\n",
    "    first = sum(arrays[0])\n",
    "\n",
    "    for i in range(1, len(arrays)):\n",
    "      if sum(arrays[i]) != first:\n",
    "        return False\n",
    "\n",
    "    return True"
   ]
  },
  {
   "cell_type": "code",
   "execution_count": 5,
   "metadata": {},
   "outputs": [],
   "source": [
    "class MagicSquareGenerator:\n",
    "    def generate(self, size):\n",
    "        while True:\n",
    "            result = []\n",
    "            for _ in range(size):\n",
    "                result.append(Generator().generate(size))\n",
    "            #print(result)\n",
    "            if Verifier().verify(Splitter().split(result)):\n",
    "                break\n",
    "        return result\n",
    "        \n",
    "    # todo - return a magic square of the given size"
   ]
  },
  {
   "cell_type": "code",
   "execution_count": 7,
   "metadata": {
    "tags": []
   },
   "outputs": [
    {
     "output_type": "execute_result",
     "data": {
      "text/plain": "[[8, 8], [8, 8]]"
     },
     "metadata": {},
     "execution_count": 7
    }
   ],
   "source": [
    "MagicSquareGenerator().generate(2)"
   ]
  }
 ]
}