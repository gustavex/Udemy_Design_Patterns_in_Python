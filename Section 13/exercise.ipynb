{
 "metadata": {
  "language_info": {
   "codemirror_mode": {
    "name": "ipython",
    "version": 3
   },
   "file_extension": ".py",
   "mimetype": "text/x-python",
   "name": "python",
   "nbconvert_exporter": "python",
   "pygments_lexer": "ipython3",
   "version": "3.7.4-final"
  },
  "orig_nbformat": 2,
  "kernelspec": {
   "name": "python37464bitbasecondaca9d845140e8440f8dff205efb07a6b1",
   "display_name": "Python 3.7.4 64-bit ('base': conda)"
  }
 },
 "nbformat": 4,
 "nbformat_minor": 2,
 "cells": [
  {
   "cell_type": "markdown",
   "metadata": {},
   "source": [
    "![title](./exercise.png)"
   ]
  },
  {
   "cell_type": "code",
   "execution_count": null,
   "metadata": {},
   "outputs": [],
   "source": [
    "class Goblin(Creature):\n",
    "    def __init__(self, game, attack=1, defense=1):\n",
    "        # todo\n",
    "        \n",
    "class GoblinKing(Goblin):\n",
    "    def __init__(self, game):\n",
    "        # todo\n",
    "\n",
    "class Game:\n",
    "    def __init__(self):\n",
    "        self.creatures = []"
   ]
  },
  {
   "cell_type": "code",
   "execution_count": 3,
   "metadata": {},
   "outputs": [],
   "source": [
    "from abc import ABC\n",
    "from enum import Enum\n",
    "\n",
    "class Creature(ABC):\n",
    "    def __init__(self, game, attack, defense):\n",
    "        self.initial_defense = defense\n",
    "        self.initial_attack = attack\n",
    "        self.game = game\n",
    "\n",
    "    @property\n",
    "    def attack(self): pass\n",
    "\n",
    "    @property\n",
    "    def defense(self): pass\n",
    "\n",
    "    def query(self, source, query): pass\n",
    "\n",
    "class WhatToQuery(Enum):\n",
    "    ATTACK = 1\n",
    "    DEFENSE = 2\n",
    "\n",
    "class Query:\n",
    "    def __init__(self, initial_value, what_to_query):\n",
    "        self.what_to_query = what_to_query\n",
    "        self.value = initial_value\n",
    "\n",
    "class Goblin(Creature):\n",
    "    def __init__(self, game, attack=1, defense=1):\n",
    "        super().__init__(game, attack, defense)\n",
    "\n",
    "    @property\n",
    "    def attack(self):\n",
    "        q = Query(self.initial_attack, WhatToQuery.ATTACK)\n",
    "        for c in self.game.creatures:\n",
    "            c.query(self, q)\n",
    "        return q.value\n",
    "\n",
    "    @property\n",
    "    def defense(self):\n",
    "        q = Query(self.initial_defense, WhatToQuery.DEFENSE)\n",
    "        for c in self.game.creatures:\n",
    "            c.query(self, q)\n",
    "        return q.value\n",
    "\n",
    "    def query(self, source, query):\n",
    "        if self != source and query.what_to_query == WhatToQuery.DEFENSE:\n",
    "            query.value = query.value + 1\n",
    "        \n",
    "class GoblinKing(Goblin):\n",
    "    def __init__(self, game):\n",
    "        super.__init__(game, 3, 3)\n",
    "\n",
    "    def query(self, source, query):\n",
    "        if self!= source and query.what_to_query == WhatToQuery.ATTACK:\n",
    "            query.value = query.value + 1\n",
    "        else:\n",
    "            super().query(source, query)\n",
    "\n",
    "class Game:\n",
    "    def __init__(self):\n",
    "        self.creatures = []"
   ]
  },
  {
   "cell_type": "code",
   "execution_count": 8,
   "metadata": {},
   "outputs": [
    {
     "output_type": "execute_result",
     "data": {
      "text/plain": "1"
     },
     "metadata": {},
     "execution_count": 8
    }
   ],
   "source": [
    "game = Game()\n",
    "goblin = Goblin(game)\n",
    "game.creatures.append(goblin)\n",
    "goblin.attack"
   ]
  },
  {
   "cell_type": "code",
   "execution_count": 9,
   "metadata": {},
   "outputs": [
    {
     "output_type": "execute_result",
     "data": {
      "text/plain": "1"
     },
     "metadata": {},
     "execution_count": 9
    }
   ],
   "source": [
    "goblin.defense"
   ]
  },
  {
   "cell_type": "code",
   "execution_count": 10,
   "metadata": {},
   "outputs": [
    {
     "output_type": "execute_result",
     "data": {
      "text/plain": "1"
     },
     "metadata": {},
     "execution_count": 10
    }
   ],
   "source": [
    "goblin2 = Goblin(game)\n",
    "game.creatures.append(goblin2)\n",
    "goblin2.attack"
   ]
  },
  {
   "cell_type": "code",
   "execution_count": 36,
   "metadata": {},
   "outputs": [
    {
     "output_type": "execute_result",
     "data": {
      "text/plain": "2"
     },
     "metadata": {},
     "execution_count": 36
    }
   ],
   "source": [
    "goblin2.defense"
   ]
  }
 ]
}