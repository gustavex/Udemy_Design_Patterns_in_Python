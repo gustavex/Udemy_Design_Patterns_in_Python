{
 "metadata": {
  "language_info": {
   "codemirror_mode": {
    "name": "ipython",
    "version": 3
   },
   "file_extension": ".py",
   "mimetype": "text/x-python",
   "name": "python",
   "nbconvert_exporter": "python",
   "pygments_lexer": "ipython3",
   "version": "3.7.4-final"
  },
  "orig_nbformat": 2,
  "kernelspec": {
   "name": "python37464bitbasecondaca9d845140e8440f8dff205efb07a6b1",
   "display_name": "Python 3.7.4 64-bit ('base': conda)"
  }
 },
 "nbformat": 4,
 "nbformat_minor": 2,
 "cells": [
  {
   "cell_type": "markdown",
   "metadata": {
    "tags": []
   },
   "source": [
    "![title](./exercise.png)"
   ]
  },
  {
   "cell_type": "code",
   "execution_count": 88,
   "metadata": {},
   "outputs": [],
   "source": [
    "from abc import ABC\n",
    "from collections.abc import Iterable\n",
    "\n",
    "class Summable(Iterable, ABC):\n",
    "    @property\n",
    "    def sum(self):\n",
    "        total = 0\n",
    "        for s in self:\n",
    "            for i in s:\n",
    "                total = total + i\n",
    "        return total\n",
    "\n",
    "class SingleValue(Summable):\n",
    "    def __init__(self, value):\n",
    "        self.value = value\n",
    "    \n",
    "    def __iter__(self):\n",
    "        yield self.value\n",
    "\n",
    "class ManyValues(list, Summable):\n",
    "    pass\n"
   ]
  },
  {
   "cell_type": "code",
   "execution_count": 100,
   "metadata": {},
   "outputs": [
    {
     "output_type": "execute_result",
     "data": {
      "text/plain": "66"
     },
     "metadata": {},
     "execution_count": 100
    }
   ],
   "source": [
    "sv = SingleValue(11)\n",
    "mv = ManyValues()\n",
    "mv.append(22)\n",
    "mv.append(33)\n",
    "av = ManyValues()\n",
    "av.append(sv)\n",
    "av.append(mv)\n",
    "av.sum\n"
   ]
  }
 ]
}