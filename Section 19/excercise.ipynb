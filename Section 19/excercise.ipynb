{
 "metadata": {
  "language_info": {
   "codemirror_mode": {
    "name": "ipython",
    "version": 3
   },
   "file_extension": ".py",
   "mimetype": "text/x-python",
   "name": "python",
   "nbconvert_exporter": "python",
   "pygments_lexer": "ipython3",
   "version": "3.7.3-final"
  },
  "orig_nbformat": 2,
  "kernelspec": {
   "name": "python3",
   "display_name": "Python 3"
  }
 },
 "nbformat": 4,
 "nbformat_minor": 2,
 "cells": [
  {
   "source": [
    "![title](./exercise.png)"
   ],
   "cell_type": "markdown",
   "metadata": {}
  },
  {
   "cell_type": "code",
   "execution_count": null,
   "metadata": {},
   "outputs": [],
   "source": [
    "class Game:\n",
    "    def __init__(self):\n",
    "        # todo\n",
    "\n",
    "\n",
    "class Rat:\n",
    "    def __init__(self, game):\n",
    "        self.game = game\n",
    "        self.attack = 1\n",
    "        # todo"
   ]
  },
  {
   "cell_type": "code",
   "execution_count": 30,
   "metadata": {},
   "outputs": [],
   "source": [
    "class Event(list):\n",
    "    def __call__(self, *args, **kwargs):\n",
    "        for item in self:\n",
    "            item(*args, **kwargs)\n",
    "\n",
    "class Game:\n",
    "    def __init__(self):\n",
    "        self.rat_enters = Event()\n",
    "        self.rat_dies = Event()\n",
    "        self.notify_rat = Event()\n",
    "\n",
    "\n",
    "class Rat:\n",
    "    def __init__(self, game):\n",
    "        self.game = game\n",
    "        self.attack = 1\n",
    "\n",
    "        game.rat_enters.append(self.rat_enters)\n",
    "        game.notify_rat.append(self.notify_rat)\n",
    "        game.rat_dies.append(self.rat_dies)\n",
    "\n",
    "        self.game.rat_enters(self)\n",
    "\n",
    "    def __enter__(self):\n",
    "        return self\n",
    "\n",
    "    def __exit__(self, exc_type, exc_val, exc_tb):\n",
    "        self.game.rat_dies(self)\n",
    "\n",
    "    def rat_enters(self, which_rat):\n",
    "        if which_rat != self:\n",
    "            self.attack += 1\n",
    "            self.game.notify_rat(which_rat)\n",
    "\n",
    "    def notify_rat(self, which_rat):\n",
    "        if which_rat == self:\n",
    "            self.attack += 1\n",
    "\n",
    "    def rat_dies(self, which_rat):\n",
    "        self.attack -= 1"
   ]
  },
  {
   "cell_type": "code",
   "execution_count": 31,
   "metadata": {},
   "outputs": [],
   "source": [
    "game = Game()"
   ]
  },
  {
   "cell_type": "code",
   "execution_count": 32,
   "metadata": {},
   "outputs": [
    {
     "output_type": "stream",
     "name": "stdout",
     "text": [
      "1\n"
     ]
    }
   ],
   "source": [
    "rat = Rat(game)\n",
    "print(rat.attack)"
   ]
  },
  {
   "cell_type": "code",
   "execution_count": 33,
   "metadata": {},
   "outputs": [
    {
     "output_type": "stream",
     "name": "stdout",
     "text": [
      "2\n2\n"
     ]
    }
   ],
   "source": [
    "rat2 = Rat(game)\n",
    "print(rat2.attack)\n",
    "print(rat.attack)"
   ]
  },
  {
   "cell_type": "code",
   "execution_count": 34,
   "metadata": {},
   "outputs": [
    {
     "output_type": "stream",
     "name": "stdout",
     "text": [
      "3\n3\n3\n"
     ]
    }
   ],
   "source": [
    "with Rat(game) as rat3:\n",
    "    print(rat.attack)\n",
    "    print(rat2.attack)\n",
    "    print(rat3.attack)"
   ]
  }
 ]
}