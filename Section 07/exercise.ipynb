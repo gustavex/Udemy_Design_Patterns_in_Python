{
 "metadata": {
  "language_info": {
   "codemirror_mode": {
    "name": "ipython",
    "version": 3
   },
   "file_extension": ".py",
   "mimetype": "text/x-python",
   "name": "python",
   "nbconvert_exporter": "python",
   "pygments_lexer": "ipython3",
   "version": "3.7.4-final"
  },
  "orig_nbformat": 2,
  "kernelspec": {
   "name": "python37464bitbasecondaca9d845140e8440f8dff205efb07a6b1",
   "display_name": "Python 3.7.4 64-bit ('base': conda)"
  }
 },
 "nbformat": 4,
 "nbformat_minor": 2,
 "cells": [
  {
   "cell_type": "code",
   "execution_count": null,
   "metadata": {
    "tags": []
   },
   "outputs": [],
   "source": [
    "![title](./exercise.png)"
   ]
  },
  {
   "cell_type": "code",
   "execution_count": null,
   "metadata": {},
   "outputs": [],
   "source": [
    "# class Shape:\n",
    "#     def __init__(self):\n",
    "#         self.name = None\n",
    "#\n",
    "#\n",
    "# class Triangle(Shape):\n",
    "#     def __init__(self):\n",
    "#         super().__init__()\n",
    "#         self.name = 'Triangle'\n",
    "#\n",
    "#\n",
    "# class Square(Shape):\n",
    "#     def __init__(self):\n",
    "#         super().__init__()\n",
    "#         self.name = 'Square'\n",
    "#\n",
    "#\n",
    "# class VectorSquare(Square):\n",
    "#     def __str__(self):\n",
    "#         return f'Drawing {self.name} as lines'\n",
    "#\n",
    "#\n",
    "# class RasterSquare(Square):\n",
    "#     def __str__(self):\n",
    "#         return f'Drawing {self.name} as pixels'\n",
    "\n",
    "# imagine VectorTriangle and RasterTriangle are here too\n",
    "\n",
    "class Renderer(ABC):\n",
    "    @property\n",
    "    def what_to_render_as(self):\n",
    "        return None\n",
    "        \n",
    "# TODO: reimplement Shape, Square, Triangle and Renderer/VectorRenderer/RasterRenderer"
   ]
  },
  {
   "cell_type": "code",
   "execution_count": 17,
   "metadata": {},
   "outputs": [],
   "source": [
    "from abc import ABC\n",
    "\n",
    "class Renderer(ABC):\n",
    "    @property\n",
    "    def what_to_render_as(self):\n",
    "        return None\n",
    "        \n",
    "class VectorRenderer(Renderer):\n",
    "    def what_to_render_as(self):\n",
    "        return 'pixels'\n",
    "\n",
    "class RasterRenderer(Renderer):\n",
    "    def what_to_render_as(self):\n",
    "        return 'lines'\n",
    "\n",
    "class Shape:\n",
    "    def __init__(self, renderer, name):\n",
    "         self.renderer = renderer\n",
    "         self.name = name\n",
    "\n",
    "    def __str__(self):\n",
    "        return 'Drawing {} as {}'.format(self.name, self.renderer.what_to_render_as())\n",
    "\n",
    "class Triangle(Shape):\n",
    "    def __init__(self, renderer):\n",
    "        super().__init__(renderer, 'Triangle')\n",
    "\n",
    "class Square(Shape):\n",
    "    def __init__(self, renderer):\n",
    "        super().__init__(renderer, 'Square')"
   ]
  },
  {
   "cell_type": "code",
   "execution_count": 18,
   "metadata": {},
   "outputs": [
    {
     "output_type": "execute_result",
     "data": {
      "text/plain": "'Drawing Triangle as lines'"
     },
     "metadata": {},
     "execution_count": 18
    }
   ],
   "source": [
    "str(Triangle(RasterRenderer()))"
   ]
  },
  {
   "cell_type": "code",
   "execution_count": 19,
   "metadata": {},
   "outputs": [
    {
     "output_type": "execute_result",
     "data": {
      "text/plain": "'Drawing Triangle as pixels'"
     },
     "metadata": {},
     "execution_count": 19
    }
   ],
   "source": [
    "str(Triangle(VectorRenderer()))"
   ]
  }
 ]
}