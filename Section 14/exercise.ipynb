{
 "metadata": {
  "language_info": {
   "codemirror_mode": {
    "name": "ipython",
    "version": 3
   },
   "file_extension": ".py",
   "mimetype": "text/x-python",
   "name": "python",
   "nbconvert_exporter": "python",
   "pygments_lexer": "ipython3",
   "version": "3.7.3-final"
  },
  "orig_nbformat": 2,
  "kernelspec": {
   "name": "python3",
   "display_name": "Python 3"
  }
 },
 "nbformat": 4,
 "nbformat_minor": 2,
 "cells": [
  {
   "source": [
    "![title](./exercise.png)"
   ],
   "cell_type": "markdown",
   "metadata": {}
  },
  {
   "cell_type": "code",
   "execution_count": null,
   "metadata": {},
   "outputs": [],
   "source": [
    "from enum import Enum\n",
    "\n",
    "class Command:\n",
    "    class Action(Enum):\n",
    "        DEPOSIT = 0\n",
    "        WITHDRAW = 1\n",
    "\n",
    "    def __init__(self, action, amount):\n",
    "        self.action = action\n",
    "        self.amount = amount\n",
    "        self.success = False\n",
    "        \n",
    "class Account:\n",
    "    def __init__(self, balance=0):\n",
    "        self.balance = balance\n",
    "\n",
    "    def process(self, command):\n",
    "        # todo"
   ]
  },
  {
   "cell_type": "code",
   "execution_count": 11,
   "metadata": {},
   "outputs": [],
   "source": [
    "from enum import Enum\n",
    "\n",
    "class Command:\n",
    "    class Action(Enum):\n",
    "        DEPOSIT = 0\n",
    "        WITHDRAW = 1\n",
    "\n",
    "    def __init__(self, action, amount):\n",
    "        self.action = action\n",
    "        self.amount = amount\n",
    "        self.success = False\n",
    "        \n",
    "class Account:\n",
    "    def __init__(self, balance=0):\n",
    "        self.balance = balance\n",
    "\n",
    "    def process(self, command):\n",
    "        if command.action == Command.Action.DEPOSIT:\n",
    "            self.balance = self.balance + command.amount\n",
    "            command.success = True\n",
    "        elif command.action == Command.Action.WITHDRAW:\n",
    "            if self.balance >= command.amount:\n",
    "                self.balance = self.balance - command.amount\n",
    "                command.success = True\n",
    "            else:\n",
    "                command.success = False\n",
    "\n",
    "    def __str__(self):\n",
    "        return 'Balance = {}'.format(self.balance)"
   ]
  },
  {
   "cell_type": "code",
   "execution_count": 12,
   "metadata": {},
   "outputs": [
    {
     "output_type": "stream",
     "name": "stdout",
     "text": [
      "Balance = 0\nTrue\nBalance = 100\nTrue\nBalance = 0\n"
     ]
    }
   ],
   "source": [
    "acnt = Account()\n",
    "print(acnt)\n",
    "cmd1 = Command(Command.Action.DEPOSIT, 100)\n",
    "acnt.process(cmd1)\n",
    "print(cmd1.success)\n",
    "print(acnt)\n",
    "cmd2 = Command(Command.Action.WITHDRAW, 100)\n",
    "acnt.process(cmd2)\n",
    "print(cmd2.success)\n",
    "print(acnt)"
   ]
  },
  {
   "cell_type": "code",
   "execution_count": 13,
   "metadata": {},
   "outputs": [
    {
     "output_type": "stream",
     "name": "stdout",
     "text": [
      "Balance = 0\nFalse\nBalance = 0\nTrue\nBalance = 100\n"
     ]
    }
   ],
   "source": [
    "acnt = Account()\n",
    "print(acnt)\n",
    "cmd1 = Command(Command.Action.WITHDRAW, 100)\n",
    "acnt.process(cmd1)\n",
    "print(cmd1.success)\n",
    "print(acnt)\n",
    "cmd2 = Command(Command.Action.DEPOSIT, 100)\n",
    "acnt.process(cmd2)\n",
    "print(cmd2.success)\n",
    "print(acnt)"
   ]
  }
 ]
}