{
 "metadata": {
  "language_info": {
   "codemirror_mode": {
    "name": "ipython",
    "version": 3
   },
   "file_extension": ".py",
   "mimetype": "text/x-python",
   "name": "python",
   "nbconvert_exporter": "python",
   "pygments_lexer": "ipython3",
   "version": "3.7.3-final"
  },
  "orig_nbformat": 2,
  "kernelspec": {
   "name": "python3",
   "display_name": "Python 3"
  }
 },
 "nbformat": 4,
 "nbformat_minor": 2,
 "cells": [
  {
   "source": [
    "![title](./exercise.png)"
   ],
   "cell_type": "markdown",
   "metadata": {}
  },
  {
   "cell_type": "code",
   "execution_count": null,
   "metadata": {},
   "outputs": [],
   "source": [
    "from abc import ABC\n",
    "\n",
    "class Creature:\n",
    "    def __init__(self, attack, health):\n",
    "        self.health = health\n",
    "        self.attack = attack\n",
    "\n",
    "class CardGame(ABC):\n",
    "    def __init__(self, creatures):\n",
    "        self.creatures = creatures\n",
    "\n",
    "    # return -1 if both creatures alive or both dead after combat\n",
    "    # otherwise, return the _index_ of winning creature\n",
    "    def combat(self, c1_index, c2_index):\n",
    "        # todo\n",
    "\n",
    "    def hit(self, attacker, defender):\n",
    "        pass  # implement this in derived classes\n",
    "\n",
    "\n",
    "class TemporaryDamageCardGame(CardGame):\n",
    "    # todo\n",
    "\n",
    "\n",
    "class PermanentDamageCardGame(CardGame):\n",
    "    # todo"
   ]
  },
  {
   "cell_type": "code",
   "execution_count": 1,
   "metadata": {},
   "outputs": [],
   "source": [
    "from abc import ABC\n",
    "\n",
    "class Creature:\n",
    "    def __init__(self, attack, health):\n",
    "        self.health = health\n",
    "        self.attack = attack\n",
    "\n",
    "class CardGame(ABC):\n",
    "    def __init__(self, creatures):\n",
    "        self.creatures = creatures\n",
    "\n",
    "    def combat(self, c1_index, c2_index):\n",
    "        first = self.creatures[c1_index]\n",
    "        second = self.creatures[c2_index]\n",
    "        self.hit(first, second)\n",
    "        self.hit(second, first)\n",
    "        first_alive = first.health > 0\n",
    "        second_alive = second.health > 0\n",
    "        if first_alive == second_alive: return -1\n",
    "        return c1_index if first_alive else c2_index\n",
    "\n",
    "    def hit(self, attacker, defender):\n",
    "        pass  \n",
    "\n",
    "\n",
    "class TemporaryDamageCardGame(CardGame):\n",
    "    def hit(self, attacker, defender):\n",
    "        old_health = defender.health\n",
    "        defender.health -= attacker.attack\n",
    "        if defender.health > 0:\n",
    "            defender.health = old_health\n",
    "\n",
    "class PermanentDamageCardGame(CardGame):\n",
    "    def hit(self, attacker, defender):\n",
    "        defender.health -= attacker.attack"
   ]
  },
  {
   "cell_type": "code",
   "execution_count": 2,
   "metadata": {},
   "outputs": [],
   "source": [
    "c1 = Creature(1, 2)\n",
    "c2 = Creature(1, 2)\n",
    "game = TemporaryDamageCardGame([c1, c2])"
   ]
  },
  {
   "cell_type": "code",
   "execution_count": 5,
   "metadata": {},
   "outputs": [
    {
     "output_type": "execute_result",
     "data": {
      "text/plain": [
       "-1"
      ]
     },
     "metadata": {},
     "execution_count": 5
    }
   ],
   "source": [
    "game.combat(0, 1)"
   ]
  },
  {
   "cell_type": "code",
   "execution_count": 6,
   "metadata": {},
   "outputs": [],
   "source": [
    "c1 = Creature(2, 1)\n",
    "c2 = Creature(2, 2)\n",
    "game = TemporaryDamageCardGame([c1, c2])"
   ]
  },
  {
   "cell_type": "code",
   "execution_count": 7,
   "metadata": {},
   "outputs": [
    {
     "output_type": "execute_result",
     "data": {
      "text/plain": [
       "-1"
      ]
     },
     "metadata": {},
     "execution_count": 7
    }
   ],
   "source": [
    "game.combat(0, 1)"
   ]
  },
  {
   "cell_type": "code",
   "execution_count": 8,
   "metadata": {},
   "outputs": [],
   "source": [
    "c1 = Creature(1, 1)\n",
    "c2 = Creature(2, 2)\n",
    "game = TemporaryDamageCardGame([c1, c2])"
   ]
  },
  {
   "cell_type": "code",
   "execution_count": 9,
   "metadata": {},
   "outputs": [
    {
     "output_type": "execute_result",
     "data": {
      "text/plain": [
       "1"
      ]
     },
     "metadata": {},
     "execution_count": 9
    }
   ],
   "source": [
    "game.combat(0, 1)"
   ]
  }
 ]
}