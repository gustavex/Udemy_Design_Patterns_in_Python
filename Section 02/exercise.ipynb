{
 "cells": [
  {
   "cell_type": "markdown",
   "metadata": {
    "tags": []
   },
   "source": [
    "![title](./exercise.png)"
   ]
  },
  {
   "cell_type": "code",
   "execution_count": null,
   "metadata": {},
   "outputs": [],
   "source": [
    "class CodeBuilder:\n",
    "    def __init__(self, root_name):\n",
    "        # todo\n",
    "\n",
    "    def add_field(self, type, name):\n",
    "        # todo\n",
    "\n",
    "    def __str__(self):\n",
    "        # todo"
   ]
  },
  {
   "cell_type": "code",
   "execution_count": 9,
   "metadata": {},
   "outputs": [],
   "source": [
    "class Code:\n",
    "    indent_size = 2\n",
    "\n",
    "    def __init__(self, name=\"\",type=\"\"):\n",
    "        self.name = name\n",
    "        self.type = type\n",
    "        self.elements = []\n",
    "\n",
    "    def __str(self, indent):\n",
    "        lines = []\n",
    "\n",
    "        if self.type:\n",
    "            i = ' ' * (indent * self.indent_size)\n",
    "            lines.append(f'{i}self.{self.name} = {self.type}')\n",
    "        else:\n",
    "            i = ' ' * self.indent_size\n",
    "            lines.append(f'class {self.name}:')\n",
    "            lines.append(f'{i}def __init__(self):')\n",
    "\n",
    "        for e in self.elements:\n",
    "            lines.append(e.__str(indent + 2))\n",
    "        \n",
    "        return '\\n'.join(lines)\n",
    "\n",
    "    def __str__(self):\n",
    "        return self.__str(0)\n",
    "\n",
    "class CodeBuilder:\n",
    "    __root = Code()\n",
    "\n",
    "    def __init__(self, root_name):\n",
    "        self.root_name = root_name\n",
    "        self.__root.name = root_name\n",
    "\n",
    "    def add_field(self, name, type):\n",
    "        self.__root.elements.append(\n",
    "            Code(name, type)\n",
    "        )\n",
    "        return self\n",
    "\n",
    "    def __str__(self):\n",
    "        return str(self.__root)"
   ]
  },
  {
   "cell_type": "code",
   "execution_count": 10,
   "metadata": {},
   "outputs": [],
   "source": [
    "cb = CodeBuilder('Person').add_field('name', '\"\"').add_field('age','0')"
   ]
  },
  {
   "cell_type": "code",
   "execution_count": 11,
   "metadata": {
    "tags": []
   },
   "outputs": [
    {
     "output_type": "stream",
     "name": "stdout",
     "text": "class Person:\n  def __init__(self):\n    self.name = \"\"\n    self.age = 0\n"
    }
   ],
   "source": [
    "print(cb)                 "
   ]
  }
 ],
 "metadata": {
  "language_info": {
   "codemirror_mode": {
    "name": "ipython",
    "version": 3
   },
   "file_extension": ".py",
   "mimetype": "text/x-python",
   "name": "python",
   "nbconvert_exporter": "python",
   "pygments_lexer": "ipython3",
   "version": "3.7.4-final"
  },
  "orig_nbformat": 2,
  "kernelspec": {
   "name": "python37464bitbasecondaca9d845140e8440f8dff205efb07a6b1",
   "display_name": "Python 3.7.4 64-bit ('base': conda)"
  }
 },
 "nbformat": 4,
 "nbformat_minor": 2
}