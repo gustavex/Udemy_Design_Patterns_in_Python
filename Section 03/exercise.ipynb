{
 "metadata": {
  "language_info": {
   "codemirror_mode": {
    "name": "ipython",
    "version": 3
   },
   "file_extension": ".py",
   "mimetype": "text/x-python",
   "name": "python",
   "nbconvert_exporter": "python",
   "pygments_lexer": "ipython3",
   "version": "3.7.4-final"
  },
  "orig_nbformat": 2,
  "kernelspec": {
   "name": "python37464bitbasecondaca9d845140e8440f8dff205efb07a6b1",
   "display_name": "Python 3.7.4 64-bit ('base': conda)"
  }
 },
 "nbformat": 4,
 "nbformat_minor": 2,
 "cells": [
  {
   "cell_type": "markdown",
   "metadata": {
    "tags": []
   },
   "source": [
    "![title](./exercise.png)"
   ]
  },
  {
   "cell_type": "code",
   "execution_count": null,
   "metadata": {},
   "outputs": [],
   "source": [
    "class Person:\n",
    "    def __init__(self, id, name):\n",
    "        self.id = id\n",
    "        self.name = name\n",
    "\n",
    "class PersonFactory:\n",
    "    def create_person(self, name):\n",
    "        # todo"
   ]
  },
  {
   "cell_type": "code",
   "execution_count": 1,
   "metadata": {},
   "outputs": [],
   "source": [
    "class Person:\n",
    "    def __str__(self):\n",
    "        return \"{} id number is {}\".format(self.name, self.id)\n",
    "\n",
    "    def __init__(self, id, name):\n",
    "        self.id = id\n",
    "        self.name = name\n",
    "\n",
    "class PersonFactory:\n",
    "    def __str__(self):\n",
    "        return \"Current id number is {}\".format(self.id_number)\n",
    "\n",
    "    def __init__(self):\n",
    "        self.id_number = 0\n",
    "\n",
    "    def get_number(self):\n",
    "        current = self.id_number\n",
    "        self.id_number = self.id_number + 1\n",
    "        return current\n",
    "\n",
    "    def create_person(self, name):\n",
    "        id = self.get_number()\n",
    "        return Person(id,name)\n",
    "        "
   ]
  },
  {
   "cell_type": "code",
   "execution_count": 2,
   "metadata": {
    "tags": []
   },
   "outputs": [
    {
     "output_type": "stream",
     "name": "stdout",
     "text": "Current id number is 0\ngustavo id number is 0\nrina id number is 1\nCurrent id number is 2\n"
    }
   ],
   "source": [
    "pf = PersonFactory()\n",
    "print(pf)\n",
    "p1 = pf.create_person(\"gustavo\")\n",
    "print(p1)\n",
    "p2 = pf.create_person(\"rina\")\n",
    "print(p2)\n",
    "print(pf)"
   ]
  }
 ]
}