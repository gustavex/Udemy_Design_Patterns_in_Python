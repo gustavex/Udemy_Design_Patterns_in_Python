{
 "metadata": {
  "language_info": {
   "codemirror_mode": {
    "name": "ipython",
    "version": 3
   },
   "file_extension": ".py",
   "mimetype": "text/x-python",
   "name": "python",
   "nbconvert_exporter": "python",
   "pygments_lexer": "ipython3",
   "version": "3.7.4-final"
  },
  "orig_nbformat": 2,
  "kernelspec": {
   "name": "python37464bitbasecondaca9d845140e8440f8dff205efb07a6b1",
   "display_name": "Python 3.7.4 64-bit ('base': conda)"
  }
 },
 "nbformat": 4,
 "nbformat_minor": 2,
 "cells": [
  {
   "cell_type": "code",
   "execution_count": null,
   "metadata": {},
   "outputs": [],
   "source": [
    "![title](./exercise.png)"
   ]
  },
  {
   "cell_type": "code",
   "execution_count": 25,
   "metadata": {},
   "outputs": [],
   "source": [
    "class Square:\n",
    "    def __init__(self, side=0):\n",
    "        self.side = side\n",
    "\n",
    "def calculate_area(rc):\n",
    "    return rc.width * rc.height\n",
    "\n",
    "class SquareToRectangleAdapter:\n",
    "    def __init__(self, square):\n",
    "        self.square = square\n",
    "\n",
    "    @property\n",
    "    def width(self):\n",
    "        return self.square.side\n",
    "\n",
    "    \n",
    "    @property\n",
    "    def height(self):\n",
    "        return self.square.side"
   ]
  },
  {
   "cell_type": "code",
   "execution_count": 26,
   "metadata": {},
   "outputs": [
    {
     "output_type": "execute_result",
     "data": {
      "text/plain": "121"
     },
     "metadata": {},
     "execution_count": 26
    }
   ],
   "source": [
    "sqr = Square(10)\n",
    "adapter = SquareToRectangleAdapter(sqr)\n",
    "calculate_area(adapter)\n",
    "sqr.side = 11\n",
    "calculate_area(adapter)"
   ]
  },
  {
   "cell_type": "code",
   "execution_count": 27,
   "metadata": {},
   "outputs": [],
   "source": [
    "class Square:\n",
    "    def __init__(self, side=0):\n",
    "        self.side = side\n",
    "\n",
    "def calculate_area(rc):\n",
    "    return rc.width() * rc.height()\n",
    "\n",
    "class SquareToRectangleAdapter:\n",
    "    def __init__(self, square):\n",
    "        self.square = square\n",
    "\n",
    "    def width(self):\n",
    "        return self.square.side\n",
    "\n",
    "    \n",
    "    def height(self):\n",
    "        return self.square.side"
   ]
  },
  {
   "cell_type": "code",
   "execution_count": 28,
   "metadata": {},
   "outputs": [
    {
     "output_type": "execute_result",
     "data": {
      "text/plain": "121"
     },
     "metadata": {},
     "execution_count": 28
    }
   ],
   "source": [
    "sqr = Square(10)\n",
    "adapter = SquareToRectangleAdapter(sqr)\n",
    "calculate_area(adapter)\n",
    "sqr.side = 11\n",
    "calculate_area(adapter)"
   ]
  }
 ]
}