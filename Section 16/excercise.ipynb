{
 "metadata": {
  "language_info": {
   "codemirror_mode": {
    "name": "ipython",
    "version": 3
   },
   "file_extension": ".py",
   "mimetype": "text/x-python",
   "name": "python",
   "nbconvert_exporter": "python",
   "pygments_lexer": "ipython3",
   "version": "3.7.3-final"
  },
  "orig_nbformat": 2,
  "kernelspec": {
   "name": "python3",
   "display_name": "Python 3"
  }
 },
 "nbformat": 4,
 "nbformat_minor": 2,
 "cells": [
  {
   "source": [
    "![title](./exercise.png)"
   ],
   "cell_type": "markdown",
   "metadata": {}
  },
  {
   "cell_type": "code",
   "execution_count": null,
   "metadata": {},
   "outputs": [],
   "source": [
    "class Node:\n",
    "  def __init__(self, value, left=None, right=None):\n",
    "    self.right = right\n",
    "    self.left = left\n",
    "    self.value = value\n",
    "\n",
    "    self.parent = None\n",
    "\n",
    "    if left:\n",
    "      self.left.parent = self\n",
    "    if right:\n",
    "      self.right.parent = self\n",
    "\n",
    "  def traverse_preorder(self):\n",
    "    # todo - return inorder values (not Nodes)\n"
   ]
  },
  {
   "cell_type": "code",
   "execution_count": 65,
   "metadata": {},
   "outputs": [],
   "source": [
    "class Node:\n",
    "  def __init__(self, value, left=None, right=None):\n",
    "    self.right = right\n",
    "    self.left = left\n",
    "    self.value = value\n",
    "\n",
    "    self.parent = None\n",
    "\n",
    "    if left:\n",
    "      self.left.parent = self\n",
    "    if right:\n",
    "      self.right.parent = self\n",
    "\n",
    "  def __str__(self):\n",
    "    return str(self.value)\n",
    "\n",
    "  def traverse_preorder(self):\n",
    "    def traverse(current):\n",
    "        yield current\n",
    "        if current.left:\n",
    "            for left in traverse(current.left):\n",
    "                yield left\n",
    "        if current.right:\n",
    "            for right in traverse(current.right):\n",
    "                yield right\n",
    "    for node in traverse(self):\n",
    "        print(node)"
   ]
  },
  {
   "cell_type": "code",
   "execution_count": 66,
   "metadata": {},
   "outputs": [],
   "source": [
    "  root = Node(1,\n",
    "              Node(2),\n",
    "              Node(3))"
   ]
  },
  {
   "cell_type": "code",
   "execution_count": 71,
   "metadata": {},
   "outputs": [
    {
     "output_type": "stream",
     "name": "stdout",
     "text": [
      "1\n2\n3\n"
     ]
    }
   ],
   "source": [
    "root.traverse_preorder()"
   ]
  },
  {
   "cell_type": "code",
   "execution_count": 73,
   "metadata": {},
   "outputs": [],
   "source": [
    "node = Node('a',\n",
    "            Node('b',\n",
    "                    Node('c'),\n",
    "                    Node('d')),\n",
    "            Node('e'))"
   ]
  },
  {
   "cell_type": "code",
   "execution_count": 74,
   "metadata": {},
   "outputs": [
    {
     "output_type": "stream",
     "name": "stdout",
     "text": [
      "a\nb\nc\nd\ne\n"
     ]
    }
   ],
   "source": [
    "node.traverse_preorder()"
   ]
  }
 ]
}