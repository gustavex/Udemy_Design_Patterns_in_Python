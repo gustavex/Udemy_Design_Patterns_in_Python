{
 "metadata": {
  "language_info": {
   "codemirror_mode": {
    "name": "ipython",
    "version": 3
   },
   "file_extension": ".py",
   "mimetype": "text/x-python",
   "name": "python",
   "nbconvert_exporter": "python",
   "pygments_lexer": "ipython3",
   "version": "3.7.4-final"
  },
  "orig_nbformat": 2,
  "kernelspec": {
   "name": "python37464bitbasecondaca9d845140e8440f8dff205efb07a6b1",
   "display_name": "Python 3.7.4 64-bit ('base': conda)"
  }
 },
 "nbformat": 4,
 "nbformat_minor": 2,
 "cells": [
  {
   "cell_type": "markdown",
   "metadata": {},
   "source": [
    "![title](./exercise.png)"
   ]
  },
  {
   "cell_type": "code",
   "execution_count": null,
   "metadata": {},
   "outputs": [],
   "source": [
    "class Person:\n",
    "  def __init__(self, age):\n",
    "    self.age = age\n",
    "\n",
    "  def drink(self):\n",
    "    return 'drinking'\n",
    "\n",
    "  def drive(self):\n",
    "    return 'driving'\n",
    "\n",
    "  def drink_and_drive(self):\n",
    "    return 'driving while drunk'\n",
    "\n",
    "class ResponsiblePerson:\n",
    "  def __init__(self, person):\n",
    "    self.person = person\n",
    "    \n",
    "\n",
    "  # todo: rest of this class"
   ]
  },
  {
   "cell_type": "code",
   "execution_count": 33,
   "metadata": {},
   "outputs": [],
   "source": [
    "class Person:\n",
    "  def __init__(self, age):\n",
    "    self.age = age\n",
    "\n",
    "  def drink(self):\n",
    "    return 'drinking'\n",
    "\n",
    "  def drive(self):\n",
    "    return 'driving'\n",
    "\n",
    "  def drink_and_drive(self):\n",
    "    return 'driving while drunk'\n",
    "\n",
    "class ResponsiblePerson:\n",
    "  def __init__(self, person):\n",
    "    self.person = person\n",
    "\n",
    "  def drink(self):\n",
    "      if self.person.age <18:\n",
    "          return 'too young'\n",
    "      else:\n",
    "          return self.person.drink()\n",
    "\n",
    "  def drive(self):\n",
    "      if self.person.age <16:\n",
    "          return 'too young'\n",
    "      else:\n",
    "          return self.person.drive()\n",
    "\n",
    "  def drink_and_drive(self):\n",
    "      return 'dead'\n",
    "\n",
    "  # todo: rest of this class"
   ]
  },
  {
   "cell_type": "code",
   "execution_count": 40,
   "metadata": {},
   "outputs": [
    {
     "output_type": "execute_result",
     "data": {
      "text/plain": "'too young'"
     },
     "metadata": {},
     "execution_count": 40
    }
   ],
   "source": [
    "rp = ResponsiblePerson(Person(15))\n",
    "rp.drive()"
   ]
  },
  {
   "cell_type": "code",
   "execution_count": null,
   "metadata": {},
   "outputs": [],
   "source": [
    "class Person:\n",
    "  def __init__(self, age):\n",
    "    self.age = age\n",
    "\n",
    "  def drink(self):\n",
    "    return 'drinking'\n",
    "\n",
    "  def drive(self):\n",
    "    return 'driving'\n",
    "\n",
    "  def drink_and_drive(self):\n",
    "    return 'driving while drunk'\n",
    "\n",
    "class ResponsiblePerson:\n",
    "  def __init__(self, person):\n",
    "    self.person = person\n",
    "\n",
    "  @property\n",
    "  def age(self):\n",
    "    return self.person.age\n",
    "\n",
    "  @age.setter\n",
    "  def age(self, value):\n",
    "    self.person.age = value\n",
    "\n",
    "  def drink(self):\n",
    "    if self.age >= 18:\n",
    "      return self.person.drink()\n",
    "    return 'too young'\n",
    "\n",
    "  def drive(self):\n",
    "    if self.age >= 16:\n",
    "      return self.person.drive()\n",
    "    return 'too young'\n",
    "\n",
    "  def drink_and_drive(self):\n",
    "    return 'dead'"
   ]
  }
 ]
}