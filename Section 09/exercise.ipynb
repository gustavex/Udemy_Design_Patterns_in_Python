{
 "metadata": {
  "language_info": {
   "codemirror_mode": {
    "name": "ipython",
    "version": 3
   },
   "file_extension": ".py",
   "mimetype": "text/x-python",
   "name": "python",
   "nbconvert_exporter": "python",
   "pygments_lexer": "ipython3",
   "version": "3.7.4-final"
  },
  "orig_nbformat": 2,
  "kernelspec": {
   "name": "python37464bitbasecondaca9d845140e8440f8dff205efb07a6b1",
   "display_name": "Python 3.7.4 64-bit ('base': conda)"
  }
 },
 "nbformat": 4,
 "nbformat_minor": 2,
 "cells": [
  {
   "cell_type": "markdown",
   "metadata": {
    "tags": []
   },
   "source": [
    "![title](./exercise.png)"
   ]
  },
  {
   "cell_type": "code",
   "execution_count": 54,
   "metadata": {},
   "outputs": [],
   "source": [
    "class Circle:\n",
    "  def __init__(self, radius):\n",
    "    self.radius = radius\n",
    "\n",
    "  def resize(self, factor):\n",
    "    self.radius *= factor\n",
    "\n",
    "  def __str__(self):\n",
    "    return 'A circle of radius {}'.format(self.radius)\n",
    "\n",
    "class Square:\n",
    "  def __init__(self, side):\n",
    "    self.side = side\n",
    "\n",
    "  def __str__(self):\n",
    "    return 'A square of side {}'.format(self.side)\n",
    "\n",
    "class ColoredShape:\n",
    "  def __init__(self, shape, color):\n",
    "    self.color = color\n",
    "    self.shape = shape\n",
    "\n",
    "  def resize(self, factor):\n",
    "      if not isinstance(self.shape,Square):\n",
    "          self.shape.resize(factor)\n",
    "\n",
    "  def __str__(self):\n",
    "    return '{} has the color {}'.format(self.shape, self.color)"
   ]
  },
  {
   "cell_type": "code",
   "execution_count": 60,
   "metadata": {},
   "outputs": [],
   "source": [
    "circle = ColoredShape(Circle(5), 'red')"
   ]
  },
  {
   "cell_type": "code",
   "execution_count": 61,
   "metadata": {
    "tags": []
   },
   "outputs": [
    {
     "output_type": "execute_result",
     "data": {
      "text/plain": "'A circle of radius 5 has the color red'"
     },
     "metadata": {},
     "execution_count": 61
    }
   ],
   "source": [
    "str(circle)"
   ]
  },
  {
   "cell_type": "code",
   "execution_count": 62,
   "metadata": {},
   "outputs": [],
   "source": [
    "circle.resize(2)"
   ]
  },
  {
   "cell_type": "code",
   "execution_count": 63,
   "metadata": {},
   "outputs": [
    {
     "output_type": "execute_result",
     "data": {
      "text/plain": "'A circle of radius 10 has the color red'"
     },
     "metadata": {},
     "execution_count": 63
    }
   ],
   "source": [
    "str(circle)"
   ]
  }
 ]
}