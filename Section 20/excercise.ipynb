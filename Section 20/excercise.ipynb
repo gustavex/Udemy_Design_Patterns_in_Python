{
 "metadata": {
  "language_info": {
   "codemirror_mode": {
    "name": "ipython",
    "version": 3
   },
   "file_extension": ".py",
   "mimetype": "text/x-python",
   "name": "python",
   "nbconvert_exporter": "python",
   "pygments_lexer": "ipython3",
   "version": "3.7.3-final"
  },
  "orig_nbformat": 2,
  "kernelspec": {
   "name": "python3",
   "display_name": "Python 3"
  }
 },
 "nbformat": 4,
 "nbformat_minor": 2,
 "cells": [
  {
   "source": [
    "![title](./exercise.png)"
   ],
   "cell_type": "markdown",
   "metadata": {}
  },
  {
   "cell_type": "code",
   "execution_count": null,
   "metadata": {},
   "outputs": [],
   "source": [
    "class CombinationLock:\n",
    "    def __init__(self, combination):\n",
    "        self.status = 'LOCKED'\n",
    "        # todo\n",
    "    def reset(self):\n",
    "        # todo - reset lock to LOCKED state\n",
    "\n",
    "    def enter_digit(self, digit):\n",
    "        # todo"
   ]
  },
  {
   "cell_type": "code",
   "execution_count": 53,
   "metadata": {},
   "outputs": [],
   "source": [
    "class CombinationLock:\n",
    "    def __init__(self, combination):\n",
    "        self.status = 'LOCKED'\n",
    "        self.combination = \"\".join(str(x) for x in combination)\n",
    "        self.trial = ''\n",
    "        \n",
    "    def reset(self):\n",
    "        self.trial = ''\n",
    "        self.status = 'LOCKED'\n",
    "        \n",
    "    def enter_digit(self, digit):\n",
    "        if self.status != 'OPEN' and self.status != 'ERROR':\n",
    "            self.trial = self.trial + str(digit)\n",
    "            self.status = self.trial\n",
    "            if self.trial == self.combination:\n",
    "                self.status = 'OPEN'\n",
    "            if not self.combination.startswith(self.trial):\n",
    "                self.status = 'ERROR'            "
   ]
  },
  {
   "cell_type": "code",
   "execution_count": 72,
   "metadata": {},
   "outputs": [],
   "source": [
    "cl = CombinationLock([1,2,3])"
   ]
  },
  {
   "cell_type": "code",
   "execution_count": 73,
   "metadata": {},
   "outputs": [
    {
     "output_type": "execute_result",
     "data": {
      "text/plain": [
       "'LOCKED'"
      ]
     },
     "metadata": {},
     "execution_count": 73
    }
   ],
   "source": [
    "cl.status"
   ]
  },
  {
   "cell_type": "code",
   "execution_count": 74,
   "metadata": {},
   "outputs": [],
   "source": [
    "cl.enter_digit('1')"
   ]
  },
  {
   "cell_type": "code",
   "execution_count": 75,
   "metadata": {},
   "outputs": [],
   "source": [
    "cl.enter_digit('2')"
   ]
  },
  {
   "cell_type": "code",
   "execution_count": 76,
   "metadata": {},
   "outputs": [],
   "source": [
    "cl.enter_digit('3')"
   ]
  },
  {
   "cell_type": "code",
   "execution_count": 77,
   "metadata": {},
   "outputs": [
    {
     "output_type": "execute_result",
     "data": {
      "text/plain": [
       "'OPEN'"
      ]
     },
     "metadata": {},
     "execution_count": 77
    }
   ],
   "source": [
    "cl.status"
   ]
  }
 ]
}